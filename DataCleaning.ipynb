{
 "cells": [
  {
   "cell_type": "code",
   "execution_count": 34,
   "metadata": {
    "collapsed": true
   },
   "outputs": [],
   "source": [
    "import numpy as np\n",
    "import pandas as pd\n",
    "import re\n",
    "import DataCleaning_Function as DC"
   ]
  },
  {
   "cell_type": "markdown",
   "metadata": {},
   "source": [
    "# Cleaning Data"
   ]
  },
  {
   "cell_type": "markdown",
   "metadata": {},
   "source": [
    "## Importing our dataset"
   ]
  },
  {
   "cell_type": "code",
   "execution_count": 2,
   "metadata": {
    "collapsed": true
   },
   "outputs": [],
   "source": [
    "data = pd.read_csv(\"us_perm_visas.csv\",low_memory=False)"
   ]
  },
  {
   "cell_type": "markdown",
   "metadata": {},
   "source": [
    "The following is a sample of our data. "
   ]
  },
  {
   "cell_type": "code",
   "execution_count": 3,
   "metadata": {},
   "outputs": [
    {
     "data": {
      "text/html": [
       "<div>\n",
       "<style>\n",
       "    .dataframe thead tr:only-child th {\n",
       "        text-align: right;\n",
       "    }\n",
       "\n",
       "    .dataframe thead th {\n",
       "        text-align: left;\n",
       "    }\n",
       "\n",
       "    .dataframe tbody tr th {\n",
       "        vertical-align: top;\n",
       "    }\n",
       "</style>\n",
       "<table border=\"1\" class=\"dataframe\">\n",
       "  <thead>\n",
       "    <tr style=\"text-align: right;\">\n",
       "      <th></th>\n",
       "      <th>add_these_pw_job_title_9089</th>\n",
       "      <th>agent_city</th>\n",
       "      <th>agent_firm_name</th>\n",
       "      <th>agent_state</th>\n",
       "      <th>application_type</th>\n",
       "      <th>case_no</th>\n",
       "      <th>case_number</th>\n",
       "      <th>case_received_date</th>\n",
       "      <th>case_status</th>\n",
       "      <th>class_of_admission</th>\n",
       "      <th>...</th>\n",
       "      <th>ri_pvt_employment_firm_to</th>\n",
       "      <th>ri_us_workers_considered</th>\n",
       "      <th>schd_a_sheepherder</th>\n",
       "      <th>us_economic_sector</th>\n",
       "      <th>wage_offer_from_9089</th>\n",
       "      <th>wage_offer_to_9089</th>\n",
       "      <th>wage_offer_unit_of_pay_9089</th>\n",
       "      <th>wage_offered_from_9089</th>\n",
       "      <th>wage_offered_to_9089</th>\n",
       "      <th>wage_offered_unit_of_pay_9089</th>\n",
       "    </tr>\n",
       "  </thead>\n",
       "  <tbody>\n",
       "    <tr>\n",
       "      <th>200100</th>\n",
       "      <td>NaN</td>\n",
       "      <td>New York</td>\n",
       "      <td>Law Offices of Harvey Shapiro</td>\n",
       "      <td>NEW YORK</td>\n",
       "      <td>NaN</td>\n",
       "      <td>NaN</td>\n",
       "      <td>A-15007-40058</td>\n",
       "      <td>2015-01-15</td>\n",
       "      <td>Certified</td>\n",
       "      <td>H-1B</td>\n",
       "      <td>...</td>\n",
       "      <td>NaN</td>\n",
       "      <td>NaN</td>\n",
       "      <td>N</td>\n",
       "      <td>NaN</td>\n",
       "      <td>135,000.00</td>\n",
       "      <td>NaN</td>\n",
       "      <td>Year</td>\n",
       "      <td>NaN</td>\n",
       "      <td>NaN</td>\n",
       "      <td>NaN</td>\n",
       "    </tr>\n",
       "    <tr>\n",
       "      <th>200101</th>\n",
       "      <td>NaN</td>\n",
       "      <td>San Francisco</td>\n",
       "      <td>Werner &amp; Associates</td>\n",
       "      <td>CALIFORNIA</td>\n",
       "      <td>NaN</td>\n",
       "      <td>NaN</td>\n",
       "      <td>A-14350-35169</td>\n",
       "      <td>2014-12-18</td>\n",
       "      <td>Certified</td>\n",
       "      <td>H-1B</td>\n",
       "      <td>...</td>\n",
       "      <td>NaN</td>\n",
       "      <td>NaN</td>\n",
       "      <td>N</td>\n",
       "      <td>NaN</td>\n",
       "      <td>150,000.00</td>\n",
       "      <td>150,000.00</td>\n",
       "      <td>Year</td>\n",
       "      <td>NaN</td>\n",
       "      <td>NaN</td>\n",
       "      <td>NaN</td>\n",
       "    </tr>\n",
       "    <tr>\n",
       "      <th>200102</th>\n",
       "      <td>NaN</td>\n",
       "      <td>Minneapolis</td>\n",
       "      <td>Fredrikson &amp; Byron, P.A.</td>\n",
       "      <td>MINNESOTA</td>\n",
       "      <td>NaN</td>\n",
       "      <td>NaN</td>\n",
       "      <td>A-15039-49064</td>\n",
       "      <td>2015-03-31</td>\n",
       "      <td>Certified</td>\n",
       "      <td>H-1B</td>\n",
       "      <td>...</td>\n",
       "      <td>NaN</td>\n",
       "      <td>NaN</td>\n",
       "      <td>N</td>\n",
       "      <td>NaN</td>\n",
       "      <td>71,531.00</td>\n",
       "      <td>89,000.00</td>\n",
       "      <td>Year</td>\n",
       "      <td>NaN</td>\n",
       "      <td>NaN</td>\n",
       "      <td>NaN</td>\n",
       "    </tr>\n",
       "    <tr>\n",
       "      <th>200103</th>\n",
       "      <td>NaN</td>\n",
       "      <td>NaN</td>\n",
       "      <td>NaN</td>\n",
       "      <td>NaN</td>\n",
       "      <td>NaN</td>\n",
       "      <td>NaN</td>\n",
       "      <td>A-14351-35492</td>\n",
       "      <td>2014-12-17</td>\n",
       "      <td>Certified</td>\n",
       "      <td>H-1B</td>\n",
       "      <td>...</td>\n",
       "      <td>NaN</td>\n",
       "      <td>NaN</td>\n",
       "      <td>N</td>\n",
       "      <td>NaN</td>\n",
       "      <td>97,989.00</td>\n",
       "      <td>NaN</td>\n",
       "      <td>Year</td>\n",
       "      <td>NaN</td>\n",
       "      <td>NaN</td>\n",
       "      <td>NaN</td>\n",
       "    </tr>\n",
       "  </tbody>\n",
       "</table>\n",
       "<p>4 rows × 154 columns</p>\n",
       "</div>"
      ],
      "text/plain": [
       "       add_these_pw_job_title_9089     agent_city  \\\n",
       "200100                         NaN       New York   \n",
       "200101                         NaN  San Francisco   \n",
       "200102                         NaN    Minneapolis   \n",
       "200103                         NaN            NaN   \n",
       "\n",
       "                      agent_firm_name agent_state application_type case_no  \\\n",
       "200100  Law Offices of Harvey Shapiro    NEW YORK              NaN     NaN   \n",
       "200101            Werner & Associates  CALIFORNIA              NaN     NaN   \n",
       "200102       Fredrikson & Byron, P.A.   MINNESOTA              NaN     NaN   \n",
       "200103                            NaN         NaN              NaN     NaN   \n",
       "\n",
       "          case_number case_received_date case_status class_of_admission  \\\n",
       "200100  A-15007-40058         2015-01-15   Certified               H-1B   \n",
       "200101  A-14350-35169         2014-12-18   Certified               H-1B   \n",
       "200102  A-15039-49064         2015-03-31   Certified               H-1B   \n",
       "200103  A-14351-35492         2014-12-17   Certified               H-1B   \n",
       "\n",
       "                    ...               ri_pvt_employment_firm_to  \\\n",
       "200100              ...                                     NaN   \n",
       "200101              ...                                     NaN   \n",
       "200102              ...                                     NaN   \n",
       "200103              ...                                     NaN   \n",
       "\n",
       "       ri_us_workers_considered schd_a_sheepherder us_economic_sector  \\\n",
       "200100                      NaN                  N                NaN   \n",
       "200101                      NaN                  N                NaN   \n",
       "200102                      NaN                  N                NaN   \n",
       "200103                      NaN                  N                NaN   \n",
       "\n",
       "       wage_offer_from_9089 wage_offer_to_9089 wage_offer_unit_of_pay_9089  \\\n",
       "200100           135,000.00                NaN                        Year   \n",
       "200101           150,000.00         150,000.00                        Year   \n",
       "200102            71,531.00          89,000.00                        Year   \n",
       "200103            97,989.00                NaN                        Year   \n",
       "\n",
       "       wage_offered_from_9089 wage_offered_to_9089  \\\n",
       "200100                    NaN                  NaN   \n",
       "200101                    NaN                  NaN   \n",
       "200102                    NaN                  NaN   \n",
       "200103                    NaN                  NaN   \n",
       "\n",
       "        wage_offered_unit_of_pay_9089  \n",
       "200100                            NaN  \n",
       "200101                            NaN  \n",
       "200102                            NaN  \n",
       "200103                            NaN  \n",
       "\n",
       "[4 rows x 154 columns]"
      ]
     },
     "execution_count": 3,
     "metadata": {},
     "output_type": "execute_result"
    }
   ],
   "source": [
    "data[200100:200104]"
   ]
  },
  {
   "cell_type": "markdown",
   "metadata": {},
   "source": [
    "## Removing Columns"
   ]
  },
  {
   "cell_type": "markdown",
   "metadata": {
    "collapsed": true
   },
   "source": [
    "We see that there are 374362 data points with 154 variables. We will remove the data points and variables that will not provide information relevant to our questions of interest. \n",
    "\n",
    "I. Using `pd.isnull().sum()`, can can see the variables where the majority of the rows are empty. We will carefully remove these columns. Since there will be a large amount of variables we will remove, we will first put the names of the variables that we are moving in a list and then drop them later from the dataframe. Note that we are not removing every single variable that have majority of empty rows. For example, `naics_2007_us_title` have 354462 empty rows, however, this column represents the same information in `naics_us_title`, `naics_us_title_2007` and `naics_title`. All three of the data points combined will cover almost every row in our dataset. Therefore, we need to be careful not to remove variables like these, but rather merge our dataset so they are just one column. "
   ]
  },
  {
   "cell_type": "code",
   "execution_count": 4,
   "metadata": {
    "collapsed": true
   },
   "outputs": [],
   "source": [
    "b = data.isnull().sum()"
   ]
  },
  {
   "cell_type": "code",
   "execution_count": 5,
   "metadata": {},
   "outputs": [
    {
     "data": {
      "text/plain": [
       "orig_file_date                 374081\n",
       "orig_case_no                   374068\n",
       "recr_info_job_fair_to          372569\n",
       "recr_info_job_fair_from        372564\n",
       "recr_info_on_campus_recr_to    372497\n",
       "dtype: int64"
      ]
     },
     "execution_count": 5,
     "metadata": {},
     "output_type": "execute_result"
    }
   ],
   "source": [
    "# Sample of variables we deleted because majority of the rows are empty. \n",
    "b.sort_values(ascending=False).head(5)"
   ]
  },
  {
   "cell_type": "code",
   "execution_count": 6,
   "metadata": {
    "collapsed": true
   },
   "outputs": [],
   "source": [
    "# Add the columns to delete in a list. \n",
    "drop_list = ['add_these_pw_job_title_9089','foreign_worker_info_alt_edu_experience',\\\n",
    "        'foreign_worker_info_birth_country','foreign_worker_info_postal_code',\\\n",
    "        'foreign_worker_info_rel_occup_exp','foreign_worker_info_req_experience',\\\n",
    "        'foreign_worker_info_training_comp','foreign_worker_ownership_interest',\\\n",
    "        'fw_info_alt_edu_experience','fw_info_birth_country',\\\n",
    "        'fw_info_postal_code','fw_info_rel_occup_exp',\\\n",
    "        'fw_info_req_experience','fw_info_training_comp',\\\n",
    "        'fw_ownership_interest','ji_foreign_worker_live_on_premises',\\\n",
    "        'ji_fw_live_on_premises','ji_offered_to_sec_j_foreign_worker',\\\n",
    "        'ji_offered_to_sec_j_fw','job_info_alt_cmb_ed_oth_yrs',\\\n",
    "        'job_info_alt_combo_ed','job_info_alt_combo_ed_other', \\\n",
    "        'job_info_alt_field_name','job_info_alt_occ',\\\n",
    "        'job_info_alt_occ_job_title','job_info_alt_occ_num_months',\\\n",
    "        'job_info_training_field','job_info_training_num_months',\n",
    "        'orig_file_date','orig_case_no','recr_info_job_fair_to',\\\n",
    "        'recr_info_job_fair_from','recr_info_on_campus_recr_to',\\\n",
    "        'recr_info_on_campus_recr_from','ri_coll_teach_select_date',\\\n",
    "        'ri_coll_tch_basic_process','recr_info_coll_teach_comp_proc',\\\n",
    "        'recr_info_pro_org_advert_to','recr_info_pro_org_advert_from' ,\\\n",
    "        'recr_info_prof_org_advert_to','recr_info_prof_org_advert_from',\\\n",
    "        'pw_source_name_other_9089','ri_pvt_employment_firm_to',\\\n",
    "        'ri_pvt_employment_firm_from','ri_us_workers_considered',\\\n",
    "        'recr_info_radio_tv_ad_from','recr_info_radio_tv_ad_to',\\\n",
    "        'ri_campus_placement_to','ri_campus_placement_from',\\\n",
    "        'ri_employee_referral_prog_from','ri_employee_referral_prog_to',\\\n",
    "        'pw_job_title_908','recr_info_barg_rep_notified',\\\n",
    "        'ri_coll_teach_pro_jnl','ri_job_search_website_to',\\\n",
    "        'ri_job_search_website_from','preparer_info_title',\\\n",
    "        'pw_job_title_9089', 'recr_info_second_ad_start']\n"
   ]
  },
  {
   "cell_type": "markdown",
   "metadata": {},
   "source": [
    "II. We will also drop the columns that are related to the columns that we have dropped or have no numerical or categorical siginificance. An example of this kind of data is the `naic_code` which is a code for the name of the job title. Since we have already included the actual title of the job, we decided to neglect the code. Similary, we have removed newspaper names of ads that the applicants used similar columns."
   ]
  },
  {
   "cell_type": "code",
   "execution_count": 7,
   "metadata": {
    "collapsed": true
   },
   "outputs": [],
   "source": [
    "drop_list2 =  ['agent_city','agent_state','employer_address_1',\\\n",
    "        'employer_address_2','employer_country','employer_phone',\\\n",
    "        'employer_phone_ext','employer_postal_code','employer_city','foreign_worker_info_city',\\\n",
    "        'employer_decl_info_title','foreign_worker_info_inst','foreign_worker_info_state',\\\n",
    "        'foreign_worker_info_major','job_info_alt_combo_ed_exp','job_info_alt_field','job_info_combo_occupation',\\\n",
    "        'job_info_job_req_normal','job_info_major','job_info_training',\\\n",
    "        'job_info_job_title','job_info_work_city','job_info_work_postal_code','naics_2007_us_code',\\\n",
    "        'naics_code','naics_us_code', 'naics_us_code_2007',\\\n",
    "        'preparer_info_emp_completed','pw_determ_date', 'pw_expire_date',\\\n",
    "        'pw_level_9089', 'pw_soc_code','pw_soc_title', 'pw_source_name_9089',\\\n",
    "        'pw_track_num', 'rec_info_barg_rep_notified','recr_info_first_ad_start',\\\n",
    "        'recr_info_sunday_newspaper','recr_info_swa_job_order_end',\\\n",
    "        'recr_info_swa_job_order_start','ri_1st_ad_newspaper_name',\\\n",
    "        'ri_2nd_ad_newspaper_name','ri_2nd_ad_newspaper_or_journal',\\\n",
    "        'ri_employer_web_post_from', 'ri_employer_web_post_to',\\\n",
    "        'ji_live_in_dom_svc_contract','ri_local_ethnic_paper_from',\\\n",
    "        'ri_local_ethnic_paper_to', \"job_info_work_state\",\\\n",
    "        'ri_posted_notice_at_worksite','schd_a_sheepherder', 'us_economic_sector',\\\n",
    "        'wage_offer_from_9089','wage_offered_from_9089',\\\n",
    "        'wage_offer_to_9089','wage_offered_to_9089','employer_name',\\\n",
    "        'wage_offer_unit_of_pay_9089','wage_offered_unit_of_pay_9089','case_received_date','application_type'\\\n",
    "        ,'job_info_education','job_info_education_other']"
   ]
  },
  {
   "cell_type": "code",
   "execution_count": 8,
   "metadata": {
    "collapsed": true
   },
   "outputs": [],
   "source": [
    "# Drop the columns. \n",
    "new_data = data.drop(drop_list+drop_list2,axis=1)"
   ]
  },
  {
   "cell_type": "markdown",
   "metadata": {},
   "source": [
    "## Merging Columns"
   ]
  },
  {
   "cell_type": "markdown",
   "metadata": {},
   "source": [
    "This data set was pulled from various applications over the years, and the variables names were not consistent. Therefore, we will have to merge these variables into one column. First, we check to make sure the columns we want to merge are disjoint; if both columns have values in the same row, we will have to individually look at the row to see how to merge them correctly. In the codes below we verified that the columns are indeed disjoint. Then, we merged the columns together."
   ]
  },
  {
   "cell_type": "code",
   "execution_count": 9,
   "metadata": {
    "collapsed": true
   },
   "outputs": [],
   "source": [
    "# Check to make sure all merging columns are disjoint\n",
    "# This code will print the column name if they are not. \n",
    "\n",
    "for a,b in [[\"case_number\",\"case_no\"],\\\n",
    "            [\"country_of_citizenship\",\"country_of_citzenship\"],\\\n",
    "            [\"foreign_worker_info_education_other\",\"fw_info_education_other\"],\\\n",
    "            [\"foreign_worker_yr_rel_edu_completed\",\"fw_info_yr_rel_edu_completed\"],\\\n",
    "            [\"naics_2007_us_title\",\"naics_title\"],\\\n",
    "            [\"naics_us_title\",\"naics_us_title_2007\"]]:\n",
    "    \n",
    "    c = new_data[a].isnull()*1\n",
    "    d = new_data[b].isnull()*1\n",
    "    if sum(c+d==0):\n",
    "        print(a)"
   ]
  },
  {
   "cell_type": "code",
   "execution_count": 10,
   "metadata": {
    "collapsed": true
   },
   "outputs": [],
   "source": [
    "# Merge the data. \n",
    "\n",
    "for a,b in [[\"case_number\",\"case_no\"],\\\n",
    "            [\"country_of_citizenship\",\"country_of_citzenship\"],\\\n",
    "            [\"foreign_worker_info_education_other\",\"fw_info_education_other\"],\\\n",
    "            [\"naics_title\",\"naics_2007_us_title\"],\\\n",
    "            [\"naics_us_title\",\"naics_us_title_2007\"]]:\n",
    "    \n",
    "    new_data[a] = new_data[[a,b]].fillna('').sum(axis=1)\n",
    "    new_data = new_data.drop([b],axis=1)\n",
    "    "
   ]
  },
  {
   "cell_type": "markdown",
   "metadata": {},
   "source": [
    "The NAICS Title had four different columns, so we had to merge two more columns together"
   ]
  },
  {
   "cell_type": "code",
   "execution_count": 11,
   "metadata": {
    "collapsed": true
   },
   "outputs": [],
   "source": [
    "# Merging the NAICS columns. \n",
    "new_data[\"naics_title\"] = new_data[[\"naics_title\",\"naics_us_title\"]].fillna('').sum(axis=1)\n",
    "new_data = new_data.drop([\"naics_us_title\"],axis=1)"
   ]
  },
  {
   "cell_type": "markdown",
   "metadata": {},
   "source": [
    "`fw_info_yr_rel_edu_completed` and `foreign_worker_yr_rel_edu_completed` are disjoint as we can see in the cell above. However, since they contain floats instead of strings, they have to be merged a different way."
   ]
  },
  {
   "cell_type": "code",
   "execution_count": 12,
   "metadata": {
    "collapsed": true
   },
   "outputs": [],
   "source": [
    "# Merging year of education columns.\n",
    "new_data[\"foreign_worker_yr_rel_edu_completed\"] = new_data[[\"fw_info_yr_rel_edu_completed\", \"foreign_worker_yr_rel_edu_completed\"]].fillna(0)\n",
    "new_data = new_data.drop([\"fw_info_yr_rel_edu_completed\"],axis=1)\n",
    "new_data[\"foreign_worker_yr_rel_edu_completed\"] = new_data[\"foreign_worker_yr_rel_edu_completed\"].replace(0, np.nan)"
   ]
  },
  {
   "cell_type": "markdown",
   "metadata": {},
   "source": [
    "We decided to drop any rows that contain data for only half of the variables."
   ]
  },
  {
   "cell_type": "code",
   "execution_count": 13,
   "metadata": {},
   "outputs": [
    {
     "data": {
      "text/plain": [
       "174"
      ]
     },
     "execution_count": 13,
     "metadata": {},
     "output_type": "execute_result"
    }
   ],
   "source": [
    "# Identify how many rows contain only half the variables.\n",
    "np.sum(new_data.isnull().sum(axis=1)>17)"
   ]
  },
  {
   "cell_type": "code",
   "execution_count": 14,
   "metadata": {
    "collapsed": true
   },
   "outputs": [],
   "source": [
    "# Drop the 239090 rows containing half the data.\n",
    "new_data = new_data.dropna(axis=0, thresh=17)"
   ]
  },
  {
   "cell_type": "markdown",
   "metadata": {},
   "source": [
    "## Standardize Column Information "
   ]
  },
  {
   "cell_type": "markdown",
   "metadata": {},
   "source": [
    "We have some columns that have mixed information. For example, `pw_unit_of_pay_9089` tells us whether the applicant's wage is yearly, hourly, etc. However, the inputs consist of `yr`, `mth`, `bi`, `hr`, `wk`, `Hour`, `Bi-Weekly`, `Month`, `Week`, `Year`. We standardized these to be `Hour`, `Bi-Weekly`, `Month`,  `Week`, `Year`. The employer state also have some states written in abreviation while others were spelled out. We changed all of the states to the abbreviations."
   ]
  },
  {
   "cell_type": "code",
   "execution_count": 15,
   "metadata": {
    "collapsed": true
   },
   "outputs": [],
   "source": [
    "# Uniforming the pw_unit_of_pay_9089 rows. \n",
    "new_data[\"pw_unit_of_pay_9089\"] = new_data[\"pw_unit_of_pay_9089\"].replace(\"yr\", \"Year\")\n",
    "new_data[\"pw_unit_of_pay_9089\"] = new_data[\"pw_unit_of_pay_9089\"].replace(\"mth\", \"Month\")\n",
    "new_data[\"pw_unit_of_pay_9089\"] = new_data[\"pw_unit_of_pay_9089\"].replace(\"bi\", \"Bi-Weekly\")\n",
    "new_data[\"pw_unit_of_pay_9089\"] = new_data[\"pw_unit_of_pay_9089\"].replace(\"hr\", \"Hour\")\n",
    "new_data[\"pw_unit_of_pay_9089\"] = new_data[\"pw_unit_of_pay_9089\"].replace(\"wk\", \"Week\")"
   ]
  },
  {
   "cell_type": "code",
   "execution_count": 16,
   "metadata": {
    "collapsed": true
   },
   "outputs": [],
   "source": [
    "# Creating state to abbreviation Dictionary. \n",
    "us_state_abbrev = {'Alabama': 'AL','Alaska': 'AK','Arizona': 'AZ',\\\n",
    "    'Arkansas': 'AR','California': 'CA', 'Colorado': 'CO','Connecticut': 'CT',\\\n",
    "    'Delaware': 'DE','Florida': 'FL','Georgia': 'GA','Hawaii': 'HI',\\\n",
    "    'Idaho': 'ID','Illinois': 'IL','Indiana': 'IN','Iowa': 'IA',\\\n",
    "    'Kansas': 'KS','Kentucky': 'KY','Louisiana': 'LA','Maine': 'ME',\\\n",
    "    'Maryland': 'MD','Massachusetts': 'MA','Michigan': 'MI','Minnesota': 'MN',\\\n",
    "    'Mississippi': 'MS','Missouri': 'MO','Montana': 'MT','Nebraska': 'NE',\\\n",
    "    'Nevada': 'NV','New Hampshire': 'NH','New Jersey': 'NJ','New Mexico': 'NM',\\\n",
    "    'New York': 'NY','North Carolina': 'NC','North Dakota': 'ND','Ohio': 'OH',\\\n",
    "    'Oklahoma': 'OK','Oregon': 'OR','Pennsylvania': 'PA','Rhode Island': 'RI',\\\n",
    "    'South Carolina': 'SC','South Dakota': 'SD','Tennessee': 'TN','Texas': 'TX',\\\n",
    "    'Utah': 'UT','Vermont': 'VT','Virginia': 'VA','Washington': 'WA',\\\n",
    "    'West Virginia': 'WV','Wisconsin': 'WI','Wyoming': 'WY',\\\n",
    "    'DISTRICT OF COLUMBIA': 'DC','VIRGIN ISLANDS' : 'VI','BRITISH COLUMBIA' :'BC',\\\n",
    "    'PUERTO RICO': 'PR','MARSHALL ISLANDS':'MH','NORTHERN MARIANA ISLANDS':'MP',\\\n",
    "    'GUAM':'GU'}\n",
    "us_state_abbrev = {state.upper(): abrev for state, abrev in us_state_abbrev.items()}\n",
    "\n",
    "# Convert to abbreviations.\n",
    "new_data.loc[new_data[\"employer_state\"].str.len()>2,\"employer_state\"]= new_data[new_data[\"employer_state\"].str.len()>2][\"employer_state\"].replace(us_state_abbrev)"
   ]
  },
  {
   "cell_type": "markdown",
   "metadata": {},
   "source": [
    "## Changing Variables Types"
   ]
  },
  {
   "cell_type": "markdown",
   "metadata": {},
   "source": [
    "I. Turn time variables into pandas `datetime` objects. "
   ]
  },
  {
   "cell_type": "code",
   "execution_count": 17,
   "metadata": {
    "collapsed": true
   },
   "outputs": [],
   "source": [
    "# Turning decision_date into datetime object. \n",
    "new_data['decision_date'] = pd.to_datetime(new_data['decision_date'],format = \"%Y-%m-%d\")"
   ]
  },
  {
   "cell_type": "code",
   "execution_count": 18,
   "metadata": {
    "collapsed": true
   },
   "outputs": [],
   "source": [
    "# Turn foreign_worker_yr_rel_edu_completed into datetime object.\n",
    "mask1 = new_data['foreign_worker_yr_rel_edu_completed'] < 1900\n",
    "mask2 = new_data['foreign_worker_yr_rel_edu_completed'].isnull()\n",
    "new_data.loc[mask1,'foreign_worker_yr_rel_edu_completed'] = new_data.loc[mask1,'foreign_worker_yr_rel_edu_completed'] = 0\n",
    "new_data.loc[mask1,'foreign_worker_yr_rel_edu_completed'] = new_data.loc[mask2,'foreign_worker_yr_rel_edu_completed'] = 0\n",
    "\n",
    "new_data.foreign_worker_yr_rel_edu_completed = new_data.foreign_worker_yr_rel_edu_completed.astype(int)\n",
    "\n",
    "mask3 = new_data['foreign_worker_yr_rel_edu_completed'] != 0\n",
    "new_data.loc[mask3,'foreign_worker_yr_rel_edu_completed'] = pd.to_datetime(new_data.loc[mask3,'foreign_worker_yr_rel_edu_completed'],format='%Y')\n",
    "\n",
    "a = pd.to_datetime(1970,format=\"%Y\")\n",
    "new_data['foreign_worker_yr_rel_edu_completed'] = new_data['foreign_worker_yr_rel_edu_completed'].replace(a,pd.NaT)"
   ]
  },
  {
   "cell_type": "code",
   "execution_count": 19,
   "metadata": {
    "collapsed": true
   },
   "outputs": [],
   "source": [
    "# Turn employer_yr_estab into datetime object. \n",
    "mask1 = new_data['employer_yr_estab'] < 1900\n",
    "mask2 = new_data['employer_yr_estab'].isnull()\n",
    "new_data.loc[mask1,'employer_yr_estab'] = new_data.loc[mask1,'employer_yr_estab'] = 0\n",
    "new_data.loc[mask1,'employer_yr_estab'] = new_data.loc[mask2,'employer_yr_estab'] = 0\n",
    "\n",
    "new_data.employer_yr_estab = new_data.employer_yr_estab.astype(int)\n",
    "\n",
    "mask3 = new_data['employer_yr_estab'] != 0\n",
    "new_data.loc[mask3,'employer_yr_estab'] = pd.to_datetime(new_data.loc[mask3,'employer_yr_estab'],format='%Y')\n",
    "\n",
    "a = pd.to_datetime(1970,format=\"%Y\")\n",
    "new_data['employer_yr_estab'] = new_data['employer_yr_estab'].replace(a,pd.NaT)"
   ]
  },
  {
   "cell_type": "markdown",
   "metadata": {},
   "source": [
    "II. Turn `pw_amount_9089` into floats. "
   ]
  },
  {
   "cell_type": "code",
   "execution_count": 20,
   "metadata": {
    "collapsed": true
   },
   "outputs": [],
   "source": [
    "# Turning into float. \n",
    "new_data['pw_amount_9089'] = pd.to_numeric(new_data['pw_amount_9089'].str.replace(\",\",\"\"))"
   ]
  },
  {
   "cell_type": "markdown",
   "metadata": {},
   "source": [
    "III. Turn 'Y' or 'N' objects into boolean."
   ]
  },
  {
   "cell_type": "code",
   "execution_count": 21,
   "metadata": {
    "collapsed": true
   },
   "outputs": [],
   "source": [
    "# Turning Yes or into booleans. \n",
    "for column in ['recr_info_coll_univ_teacher',\n",
    "               'recr_info_employer_rec_payment',\n",
    "               'recr_info_professional_occ',\n",
    "               'refile',\n",
    "               'ri_layoff_in_past_six_months',\n",
    "               'ji_live_in_domestic_service',\n",
    "               'job_info_foreign_ed',\n",
    "               'job_info_foreign_lang_req',\n",
    "               'job_info_experience']:\n",
    "    \n",
    "    new_data[column] = new_data[column].replace({'Y':True,'N':False})"
   ]
  },
  {
   "cell_type": "markdown",
   "metadata": {},
   "source": [
    "IV. Turn None to NaN"
   ]
  },
  {
   "cell_type": "code",
   "execution_count": 22,
   "metadata": {
    "collapsed": true
   },
   "outputs": [],
   "source": [
    "new_data.foreign_worker_info_education = new_data['foreign_worker_info_education'].replace({\"None\":np.nan,\"-\":np.nan,\"--------\":np.nan})\n",
    "new_data.foreign_worker_info_education_other = new_data['foreign_worker_info_education_other'].replace({\"None\":np.nan,\"-\":np.nan,\"--------\":np.nan,\"-----------\":np.nan,\"--------------\":np.nan})"
   ]
  },
  {
   "cell_type": "markdown",
   "metadata": {},
   "source": [
    "V. Case Received date to year "
   ]
  },
  {
   "cell_type": "code",
   "execution_count": 23,
   "metadata": {
    "collapsed": true
   },
   "outputs": [],
   "source": [
    "#Change decision_date to just year, then convert back to datetime object\n",
    "new_data.decision_date = new_data.decision_date.dt.year\n",
    "new_data['decision_date'] = pd.to_datetime(new_data['decision_date'],format = \"%Y\")"
   ]
  },
  {
   "cell_type": "markdown",
   "metadata": {},
   "source": [
    "VI. Combine duplicate case_number data"
   ]
  },
  {
   "cell_type": "code",
   "execution_count": 24,
   "metadata": {
    "collapsed": true
   },
   "outputs": [],
   "source": [
    "data_frame = pd.concat([\n",
    "        new_data[new_data.duplicated('case_number')],\n",
    "        new_data.loc[new_data.drop_duplicates('case_number',keep=False).index]\n",
    "    ])\n",
    "data_frame = pd.concat([\n",
    "        data_frame[data_frame.duplicated('case_number')],\n",
    "        data_frame.loc[data_frame.drop_duplicates('case_number',keep=False).index]\n",
    "    ])"
   ]
  },
  {
   "cell_type": "markdown",
   "metadata": {},
   "source": [
    "## Cleaned Data"
   ]
  },
  {
   "cell_type": "markdown",
   "metadata": {},
   "source": [
    "Lastly, we set the index of our dataframe to be the case number of each applicant. "
   ]
  },
  {
   "cell_type": "code",
   "execution_count": 25,
   "metadata": {
    "collapsed": true
   },
   "outputs": [],
   "source": [
    "data_frame = data_frame.set_index(data_frame.case_number)\n",
    "data_frame = data_frame.drop('case_number',axis = 1)"
   ]
  },
  {
   "cell_type": "markdown",
   "metadata": {},
   "source": [
    "Our data is finally cleaned. It has 33 variables and 239090 data points."
   ]
  },
  {
   "cell_type": "markdown",
   "metadata": {},
   "source": [
    "# Potential Problems"
   ]
  },
  {
   "cell_type": "markdown",
   "metadata": {},
   "source": [
    "## Evaluate Sources\n",
    "The dataset comes from the US Department of Labor. They disclose the US permanent visa application information every year. Since this dataset comes from the US Department of Labor, we believe that it is a reliable dataset and that the information given are accurate. We also think that there should not be a bias other than people filling out their information wrong due to misunderstanding of the question. For the rows where the value does not make sense for a given variable, we have removed the whole datapoint or their response. \n",
    "\n",
    "Although we have removed 135272 datapoints from our dataset, we still have datapoints with missing information. We have already done a little bit of initial feature engineering. For example, we created a new column indicating whether the datapoint has information on using an agent or not. For the other datapoints, we do not think this will affect our results. \n",
    "\n",
    "We have already changed all datapoints with wrong information in our data cleaning process."
   ]
  },
  {
   "cell_type": "markdown",
   "metadata": {},
   "source": [
    "## Suitability\n",
    "In our proposal, we wanted answer the following questions:\n",
    "\n",
    "1) What is the likelihood of an individual getting certified for a US Permanent Visa given their background?\n",
    "\n",
    "2) Which columns/variables have significant negative effects on receiving a US Permanent Visa?\n",
    "\n",
    "3) Which columns/variables have significant positive effects on receiving a US Permanent Visa?\n",
    "\n",
    "4) Is there bias in receiving a permanent visa? \n",
    "\n",
    "We believe that our dataset can answer these questions very well. We have lots of variables to work with, and our response variable is very clear. Looking at the likelihood of an individual receiving a visa can be answered by looking at the trends of our variables and their application results. As for positive and negative effects of variables, we can see which variables most commonly lead to a denied status versus a certified status. To determine bias, we will look within categories such as job title or job region and determine whether people of certain ages or origin have higher chances of being accepted or denied a permanent visa. We can also build statistical models to help us answer these questions."
   ]
  },
  {
   "cell_type": "markdown",
   "metadata": {},
   "source": [
    "# FEATURE ENGINEERING"
   ]
  },
  {
   "cell_type": "markdown",
   "metadata": {},
   "source": [
    "## Remove Withdrawn Applications\n",
    "Currently our response variable has the values Certified, Withdrawn, Certified-Expired, and Denied. The rows where the application has been withdrawn are not helpful for our purpose, since we are trying understand the likelihood of a person being certified. Therefore, we have removed all of the rows where the application has been withdrawn. The Certified-Expired label means that the person was certified for the permanent labor certifications but did not file a 140 within a 6 month period, meaning that their permanent visa expired. Since the individuals whose applicatios was Certified-Expired were certified at one point, we decided to group them with the other Certified applications. "
   ]
  },
  {
   "cell_type": "code",
   "execution_count": 26,
   "metadata": {
    "collapsed": true
   },
   "outputs": [],
   "source": [
    "# Drop rows that have withdrawn -- don't need them for our analysis\n",
    "data_frame = data_frame[data_frame[\"case_status\"] != 'Withdrawn']"
   ]
  },
  {
   "cell_type": "code",
   "execution_count": 27,
   "metadata": {
    "collapsed": true
   },
   "outputs": [],
   "source": [
    "#Replaced \"Certified-Expired\" with \"Certified\"\n",
    "data_frame[\"case_status\"] = data_frame[\"case_status\"].replace('Certified-Expired', 'Certified')\n",
    "data_frame = data_frame.replace(\"\", np.nan)"
   ]
  },
  {
   "cell_type": "markdown",
   "metadata": {},
   "source": [
    "## Adding Medical School to Education \n",
    "In the column `foreign_worker_info_education`, applicants indicated the level of their education. If their highest level of education was not High Schoool, Bachelor's, Master's, Doctorate, or Associate's, they may indicate Other in that column. In that case, there is another column `foreign_worker_info_education_other` where those individuals can specify what type of education was completed. Since almost every individual who filled in this column has a different answer, this row may not be very helpful for our analysis. Looking at the `foreign_worker_info_education_other` column, we noticed that there were a lot of people with medical degrees. We thought that it would be interesting to analyze that degree type also. Hence, we used regular expressions to find the rows that indicated that they got a medical degree and added it to the `foreign_worker_info_education` column. We then deleted the `foreign_worker_info_education_other` column. "
   ]
  },
  {
   "cell_type": "code",
   "execution_count": 28,
   "metadata": {
    "collapsed": true
   },
   "outputs": [],
   "source": [
    "# Find Medical Degree individuals. \n",
    "expr = re.compile(r\".*M.D.*|.*MED.*|.*MD.*\")\n",
    "data_frame[\"foreign_worker_info_education_other\"] = \\\n",
    "    data_frame[\"foreign_worker_info_education_other\"].replace(expr, \"Medical Degree\")"
   ]
  },
  {
   "cell_type": "code",
   "execution_count": 29,
   "metadata": {
    "collapsed": true
   },
   "outputs": [],
   "source": [
    "# Add Medical Degree in education column.\n",
    "mask = data_frame[\"foreign_worker_info_education_other\"] == \"Medical Degree\"\n",
    "data_frame.loc[mask,\"foreign_worker_info_education\"] = \\\n",
    "    data_frame[mask][\"foreign_worker_info_education\"].replace(\"Other\", \"Medical Degree\")\n",
    "data_frame = data_frame.drop(\"foreign_worker_info_education_other\", axis=1)"
   ]
  },
  {
   "cell_type": "markdown",
   "metadata": {},
   "source": [
    "##  If Applicants Used Agency or Not\n",
    "This data set also contains information about the specific agencies of certain applicants. Agency information was given for those applicants who used an agency during the application process. This information is not very important to our study. We change this value to a boolean variable, with a `True` signifying an agency was used, or a `False` signifying no agency was used. We then dropped the `agent_firm_name` column."
   ]
  },
  {
   "cell_type": "code",
   "execution_count": 30,
   "metadata": {
    "collapsed": true
   },
   "outputs": [],
   "source": [
    "data_frame[\"used_agency\"] = ~data_frame[\"agent_firm_name\"].isnull()\n",
    "data_frame = data_frame.drop([\"agent_firm_name\"], axis=1)"
   ]
  },
  {
   "cell_type": "code",
   "execution_count": 31,
   "metadata": {},
   "outputs": [
    {
     "data": {
      "text/html": [
       "<div>\n",
       "<style>\n",
       "    .dataframe thead tr:only-child th {\n",
       "        text-align: right;\n",
       "    }\n",
       "\n",
       "    .dataframe thead th {\n",
       "        text-align: left;\n",
       "    }\n",
       "\n",
       "    .dataframe tbody tr th {\n",
       "        vertical-align: top;\n",
       "    }\n",
       "</style>\n",
       "<table border=\"1\" class=\"dataframe\">\n",
       "  <thead>\n",
       "    <tr style=\"text-align: right;\">\n",
       "      <th></th>\n",
       "      <th>case_status</th>\n",
       "      <th>class_of_admission</th>\n",
       "      <th>country_of_citizenship</th>\n",
       "      <th>decision_date</th>\n",
       "      <th>employer_num_employees</th>\n",
       "      <th>employer_state</th>\n",
       "      <th>employer_yr_estab</th>\n",
       "      <th>foreign_worker_info_education</th>\n",
       "      <th>foreign_worker_yr_rel_edu_completed</th>\n",
       "      <th>ji_live_in_domestic_service</th>\n",
       "      <th>...</th>\n",
       "      <th>job_info_foreign_lang_req</th>\n",
       "      <th>naics_title</th>\n",
       "      <th>pw_amount_9089</th>\n",
       "      <th>pw_unit_of_pay_9089</th>\n",
       "      <th>recr_info_coll_univ_teacher</th>\n",
       "      <th>recr_info_employer_rec_payment</th>\n",
       "      <th>recr_info_professional_occ</th>\n",
       "      <th>refile</th>\n",
       "      <th>ri_layoff_in_past_six_months</th>\n",
       "      <th>used_agency</th>\n",
       "    </tr>\n",
       "    <tr>\n",
       "      <th>case_number</th>\n",
       "      <th></th>\n",
       "      <th></th>\n",
       "      <th></th>\n",
       "      <th></th>\n",
       "      <th></th>\n",
       "      <th></th>\n",
       "      <th></th>\n",
       "      <th></th>\n",
       "      <th></th>\n",
       "      <th></th>\n",
       "      <th></th>\n",
       "      <th></th>\n",
       "      <th></th>\n",
       "      <th></th>\n",
       "      <th></th>\n",
       "      <th></th>\n",
       "      <th></th>\n",
       "      <th></th>\n",
       "      <th></th>\n",
       "      <th></th>\n",
       "      <th></th>\n",
       "    </tr>\n",
       "  </thead>\n",
       "  <tbody>\n",
       "    <tr>\n",
       "      <th>A-16161-20020</th>\n",
       "      <td>Certified</td>\n",
       "      <td>NaN</td>\n",
       "      <td>TAIWAN</td>\n",
       "      <td>2016-01-01</td>\n",
       "      <td>59.0</td>\n",
       "      <td>NJ</td>\n",
       "      <td>2003-01-01</td>\n",
       "      <td>Bachelor's</td>\n",
       "      <td>1996-01-01</td>\n",
       "      <td>False</td>\n",
       "      <td>...</td>\n",
       "      <td>False</td>\n",
       "      <td>Custom Computer Programming Services</td>\n",
       "      <td>60840.0</td>\n",
       "      <td>Year</td>\n",
       "      <td>False</td>\n",
       "      <td>False</td>\n",
       "      <td>True</td>\n",
       "      <td>NaN</td>\n",
       "      <td>False</td>\n",
       "      <td>True</td>\n",
       "    </tr>\n",
       "    <tr>\n",
       "      <th>A-16161-20091</th>\n",
       "      <td>Certified</td>\n",
       "      <td>H-1B</td>\n",
       "      <td>SOUTH KOREA</td>\n",
       "      <td>2016-01-01</td>\n",
       "      <td>16.0</td>\n",
       "      <td>CO</td>\n",
       "      <td>2009-01-01</td>\n",
       "      <td>Bachelor's</td>\n",
       "      <td>1997-01-01</td>\n",
       "      <td>False</td>\n",
       "      <td>...</td>\n",
       "      <td>False</td>\n",
       "      <td>Medical Equipment and Supplies Manufacturing</td>\n",
       "      <td>99382.0</td>\n",
       "      <td>Year</td>\n",
       "      <td>False</td>\n",
       "      <td>False</td>\n",
       "      <td>True</td>\n",
       "      <td>NaN</td>\n",
       "      <td>False</td>\n",
       "      <td>True</td>\n",
       "    </tr>\n",
       "    <tr>\n",
       "      <th>A-16035-69181</th>\n",
       "      <td>Denied</td>\n",
       "      <td>H-1B</td>\n",
       "      <td>INDIA</td>\n",
       "      <td>2016-01-01</td>\n",
       "      <td>15000.0</td>\n",
       "      <td>IL</td>\n",
       "      <td>NaT</td>\n",
       "      <td>Master's</td>\n",
       "      <td>1996-01-01</td>\n",
       "      <td>False</td>\n",
       "      <td>...</td>\n",
       "      <td>False</td>\n",
       "      <td>Pharmaceutical Preparation Manufacturing</td>\n",
       "      <td>158579.0</td>\n",
       "      <td>Year</td>\n",
       "      <td>False</td>\n",
       "      <td>False</td>\n",
       "      <td>True</td>\n",
       "      <td>NaN</td>\n",
       "      <td>False</td>\n",
       "      <td>True</td>\n",
       "    </tr>\n",
       "    <tr>\n",
       "      <th>A-16181-27351</th>\n",
       "      <td>Certified</td>\n",
       "      <td>H-1B</td>\n",
       "      <td>INDIA</td>\n",
       "      <td>2016-01-01</td>\n",
       "      <td>200.0</td>\n",
       "      <td>TX</td>\n",
       "      <td>1997-01-01</td>\n",
       "      <td>Bachelor's</td>\n",
       "      <td>2006-01-01</td>\n",
       "      <td>False</td>\n",
       "      <td>...</td>\n",
       "      <td>False</td>\n",
       "      <td>Custom Computer Programming Services</td>\n",
       "      <td>170456.0</td>\n",
       "      <td>Year</td>\n",
       "      <td>False</td>\n",
       "      <td>False</td>\n",
       "      <td>True</td>\n",
       "      <td>NaN</td>\n",
       "      <td>False</td>\n",
       "      <td>False</td>\n",
       "    </tr>\n",
       "  </tbody>\n",
       "</table>\n",
       "<p>4 rows × 23 columns</p>\n",
       "</div>"
      ],
      "text/plain": [
       "              case_status class_of_admission country_of_citizenship  \\\n",
       "case_number                                                           \n",
       "A-16161-20020   Certified                NaN                 TAIWAN   \n",
       "A-16161-20091   Certified               H-1B            SOUTH KOREA   \n",
       "A-16035-69181      Denied               H-1B                  INDIA   \n",
       "A-16181-27351   Certified               H-1B                  INDIA   \n",
       "\n",
       "              decision_date  employer_num_employees employer_state  \\\n",
       "case_number                                                          \n",
       "A-16161-20020    2016-01-01                    59.0             NJ   \n",
       "A-16161-20091    2016-01-01                    16.0             CO   \n",
       "A-16035-69181    2016-01-01                 15000.0             IL   \n",
       "A-16181-27351    2016-01-01                   200.0             TX   \n",
       "\n",
       "              employer_yr_estab foreign_worker_info_education  \\\n",
       "case_number                                                     \n",
       "A-16161-20020        2003-01-01                    Bachelor's   \n",
       "A-16161-20091        2009-01-01                    Bachelor's   \n",
       "A-16035-69181               NaT                      Master's   \n",
       "A-16181-27351        1997-01-01                    Bachelor's   \n",
       "\n",
       "              foreign_worker_yr_rel_edu_completed ji_live_in_domestic_service  \\\n",
       "case_number                                                                     \n",
       "A-16161-20020                          1996-01-01                       False   \n",
       "A-16161-20091                          1997-01-01                       False   \n",
       "A-16035-69181                          1996-01-01                       False   \n",
       "A-16181-27351                          2006-01-01                       False   \n",
       "\n",
       "                  ...     job_info_foreign_lang_req  \\\n",
       "case_number       ...                                 \n",
       "A-16161-20020     ...                         False   \n",
       "A-16161-20091     ...                         False   \n",
       "A-16035-69181     ...                         False   \n",
       "A-16181-27351     ...                         False   \n",
       "\n",
       "                                                naics_title pw_amount_9089  \\\n",
       "case_number                                                                  \n",
       "A-16161-20020          Custom Computer Programming Services        60840.0   \n",
       "A-16161-20091  Medical Equipment and Supplies Manufacturing        99382.0   \n",
       "A-16035-69181      Pharmaceutical Preparation Manufacturing       158579.0   \n",
       "A-16181-27351          Custom Computer Programming Services       170456.0   \n",
       "\n",
       "              pw_unit_of_pay_9089 recr_info_coll_univ_teacher  \\\n",
       "case_number                                                     \n",
       "A-16161-20020                Year                       False   \n",
       "A-16161-20091                Year                       False   \n",
       "A-16035-69181                Year                       False   \n",
       "A-16181-27351                Year                       False   \n",
       "\n",
       "               recr_info_employer_rec_payment recr_info_professional_occ  \\\n",
       "case_number                                                                \n",
       "A-16161-20020                           False                       True   \n",
       "A-16161-20091                           False                       True   \n",
       "A-16035-69181                           False                       True   \n",
       "A-16181-27351                           False                       True   \n",
       "\n",
       "              refile ri_layoff_in_past_six_months used_agency  \n",
       "case_number                                                    \n",
       "A-16161-20020    NaN                        False        True  \n",
       "A-16161-20091    NaN                        False        True  \n",
       "A-16035-69181    NaN                        False        True  \n",
       "A-16181-27351    NaN                        False       False  \n",
       "\n",
       "[4 rows x 23 columns]"
      ]
     },
     "execution_count": 31,
     "metadata": {},
     "output_type": "execute_result"
    }
   ],
   "source": [
    "data_frame[200100:200104]"
   ]
  },
  {
   "cell_type": "code",
   "execution_count": 32,
   "metadata": {
    "collapsed": true
   },
   "outputs": [],
   "source": [
    "data_frame.to_csv(\"cleaned_data.csv\")"
   ]
  },
  {
   "cell_type": "code",
   "execution_count": 33,
   "metadata": {},
   "outputs": [
    {
     "data": {
      "text/plain": [
       "(228644, 23)"
      ]
     },
     "execution_count": 33,
     "metadata": {},
     "output_type": "execute_result"
    }
   ],
   "source": [
    "data_frame.shape"
   ]
  }
 ],
 "metadata": {
  "kernelspec": {
   "display_name": "Python 3",
   "language": "python",
   "name": "python3"
  },
  "language_info": {
   "codemirror_mode": {
    "name": "ipython",
    "version": 3
   },
   "file_extension": ".py",
   "mimetype": "text/x-python",
   "name": "python",
   "nbconvert_exporter": "python",
   "pygments_lexer": "ipython3",
   "version": "3.6.3"
  }
 },
 "nbformat": 4,
 "nbformat_minor": 2
}
